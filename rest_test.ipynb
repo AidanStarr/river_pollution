{
 "cells": [
  {
   "cell_type": "markdown",
   "id": "af5c9591-2eaa-4ed9-8ada-705dfec2cf77",
   "metadata": {},
   "source": [
    "# Learning to access the REST API\n"
   ]
  },
  {
   "cell_type": "code",
   "execution_count": 30,
   "id": "10116621-f731-4c01-94a0-3aed980dbd84",
   "metadata": {},
   "outputs": [],
   "source": [
    "import requests\n",
    "import json"
   ]
  },
  {
   "cell_type": "code",
   "execution_count": 44,
   "id": "88677494-222b-4963-a08c-0ab80ccaefd0",
   "metadata": {},
   "outputs": [],
   "source": [
    "api_url = \"http://environment.data.gov.uk/water-quality/data/sample\" # base url\n",
    "\n",
    "x = 1.2577\n",
    "y = 51.7520\n",
    "d = 10\n",
    "query = {'lat':str(x),'long':str(y),'dist':str(d)}\n",
    "query2 = {'area':'Kent and South London'}\n",
    "response = requests.get(api_url)\n",
    "response.json();"
   ]
  },
  {
   "cell_type": "code",
   "execution_count": 103,
   "id": "cfb4b139-5ffd-40dc-982c-c4f2a60b61b0",
   "metadata": {},
   "outputs": [
    {
     "data": {
      "text/plain": [
       "'AN-05268A'"
      ]
     },
     "execution_count": 103,
     "metadata": {},
     "output_type": "execute_result"
    }
   ],
   "source": [
    "api_url = \"https://environment.data.gov.uk/water-quality/id/sampling-point\" \n",
    "\n",
    "x = -0.48\n",
    "y = 52.1234\n",
    "d = 5\n",
    "query = {'lat':y,'long':x,'dist':d}\n",
    "query2 = {'area':'1-1'}\n",
    "response = requests.get(api_url,params=query2)\n",
    "cam = response.json()\n",
    "\n",
    "ids = [cam['items'][i]['@id'] for i in range(len(cam['items']))]\n",
    "ids[0][63:]"
   ]
  },
  {
   "cell_type": "code",
   "execution_count": 96,
   "id": "1c96a3cf-7084-4de4-aac2-9a1dd0d7284e",
   "metadata": {},
   "outputs": [
    {
     "data": {
      "text/plain": [
       "['http://environment.data.gov.uk/water-quality/id/sampling-point/AN-05268A',\n",
       " 'http://environment.data.gov.uk/water-quality/id/sampling-point/AN-BASSING',\n",
       " 'http://environment.data.gov.uk/water-quality/id/sampling-point/AN-FELTWLL',\n",
       " 'http://environment.data.gov.uk/water-quality/id/sampling-point/AN-37538',\n",
       " 'http://environment.data.gov.uk/water-quality/id/sampling-point/AN-53M07',\n",
       " 'http://environment.data.gov.uk/water-quality/id/sampling-point/AN-CVALLEYI',\n",
       " 'http://environment.data.gov.uk/water-quality/id/sampling-point/AN-ELMSWLL',\n",
       " 'http://environment.data.gov.uk/water-quality/id/sampling-point/AN-08M28',\n",
       " 'http://environment.data.gov.uk/water-quality/id/sampling-point/AN-26M36',\n",
       " 'http://environment.data.gov.uk/water-quality/id/sampling-point/AN-GAMLNGY',\n",
       " 'http://environment.data.gov.uk/water-quality/id/sampling-point/AN-OUS30SAL',\n",
       " 'http://environment.data.gov.uk/water-quality/id/sampling-point/AN-39M03',\n",
       " 'http://environment.data.gov.uk/water-quality/id/sampling-point/AN-CHATTER',\n",
       " 'http://environment.data.gov.uk/water-quality/id/sampling-point/AN-09M06',\n",
       " 'http://environment.data.gov.uk/water-quality/id/sampling-point/AN-17M05',\n",
       " 'http://environment.data.gov.uk/water-quality/id/sampling-point/AN-WHTTLSY',\n",
       " 'http://environment.data.gov.uk/water-quality/id/sampling-point/AN-03M02',\n",
       " 'http://environment.data.gov.uk/water-quality/id/sampling-point/AN-GUILMOR',\n",
       " 'http://environment.data.gov.uk/water-quality/id/sampling-point/AN-NEWPORT',\n",
       " 'http://environment.data.gov.uk/water-quality/id/sampling-point/AN-38M06',\n",
       " 'http://environment.data.gov.uk/water-quality/id/sampling-point/AN-35M02',\n",
       " 'http://environment.data.gov.uk/water-quality/id/sampling-point/AN-34M02',\n",
       " 'http://environment.data.gov.uk/water-quality/id/sampling-point/AN-04M04',\n",
       " 'http://environment.data.gov.uk/water-quality/id/sampling-point/AN-30142B',\n",
       " 'http://environment.data.gov.uk/water-quality/id/sampling-point/AN-15M05',\n",
       " 'http://environment.data.gov.uk/water-quality/id/sampling-point/AN-05M02',\n",
       " 'http://environment.data.gov.uk/water-quality/id/sampling-point/AN-16M05',\n",
       " 'http://environment.data.gov.uk/water-quality/id/sampling-point/AN-MARCH',\n",
       " 'http://environment.data.gov.uk/water-quality/id/sampling-point/AN-53M39',\n",
       " 'http://environment.data.gov.uk/water-quality/id/sampling-point/AN-TF91133C',\n",
       " 'http://environment.data.gov.uk/water-quality/id/sampling-point/AN-HITCHIN',\n",
       " 'http://environment.data.gov.uk/water-quality/id/sampling-point/AN-50039A',\n",
       " 'http://environment.data.gov.uk/water-quality/id/sampling-point/AN-CTWRTHH',\n",
       " 'http://environment.data.gov.uk/water-quality/id/sampling-point/AN-UTTNSDR',\n",
       " 'http://environment.data.gov.uk/water-quality/id/sampling-point/AN-ASHWELL',\n",
       " 'http://environment.data.gov.uk/water-quality/id/sampling-point/AN-STOKBRU',\n",
       " 'http://environment.data.gov.uk/water-quality/id/sampling-point/AN-TF90011C',\n",
       " 'http://environment.data.gov.uk/water-quality/id/sampling-point/AN-56051',\n",
       " 'http://environment.data.gov.uk/water-quality/id/sampling-point/AN-TM09120C',\n",
       " 'http://environment.data.gov.uk/water-quality/id/sampling-point/AN-27M10',\n",
       " 'http://environment.data.gov.uk/water-quality/id/sampling-point/AN-NEWHARG',\n",
       " 'http://environment.data.gov.uk/water-quality/id/sampling-point/AN-HAWSTED',\n",
       " 'http://environment.data.gov.uk/water-quality/id/sampling-point/AN-TUDDNHM',\n",
       " 'http://environment.data.gov.uk/water-quality/id/sampling-point/AN-02M25',\n",
       " 'http://environment.data.gov.uk/water-quality/id/sampling-point/AN-TL99188C',\n",
       " 'http://environment.data.gov.uk/water-quality/id/sampling-point/AN-06M18',\n",
       " 'http://environment.data.gov.uk/water-quality/id/sampling-point/AN-56M06',\n",
       " 'http://environment.data.gov.uk/water-quality/id/sampling-point/AN-36M07',\n",
       " 'http://environment.data.gov.uk/water-quality/id/sampling-point/AN-TL78024C',\n",
       " 'http://environment.data.gov.uk/water-quality/id/sampling-point/AN-LINTON']"
      ]
     },
     "execution_count": 96,
     "metadata": {},
     "output_type": "execute_result"
    }
   ],
   "source": [
    "ids"
   ]
  },
  {
   "cell_type": "code",
   "execution_count": 105,
   "id": "54f4f160-1c28-403d-a1d4-1cd27e0e59df",
   "metadata": {},
   "outputs": [
    {
     "data": {
      "text/plain": [
       "<Response [404]>"
      ]
     },
     "execution_count": 105,
     "metadata": {},
     "output_type": "execute_result"
    }
   ],
   "source": [
    "sample_url = 'http://environment.data.gov.uk/water-quality/data/sample/'+ids[0][63:]+'/samples'\n",
    "\n",
    "requests.get(sample_url)\n"
   ]
  },
  {
   "cell_type": "code",
   "execution_count": 67,
   "id": "b1da66c6-73e7-41b2-9679-ca01d2bd0802",
   "metadata": {},
   "outputs": [
    {
     "data": {
      "text/html": [
       "<div style=\"width:100%;\"><div style=\"position:relative;width:100%;height:0;padding-bottom:60%;\"><span style=\"color:#565656\">Make this Notebook Trusted to load map: File -> Trust Notebook</span><iframe srcdoc=\"&lt;!DOCTYPE html&gt;\n",
       "&lt;html&gt;\n",
       "&lt;head&gt;\n",
       "    \n",
       "    &lt;meta http-equiv=&quot;content-type&quot; content=&quot;text/html; charset=UTF-8&quot; /&gt;\n",
       "    \n",
       "        &lt;script&gt;\n",
       "            L_NO_TOUCH = false;\n",
       "            L_DISABLE_3D = false;\n",
       "        &lt;/script&gt;\n",
       "    \n",
       "    &lt;style&gt;html, body {width: 100%;height: 100%;margin: 0;padding: 0;}&lt;/style&gt;\n",
       "    &lt;style&gt;#map {position:absolute;top:0;bottom:0;right:0;left:0;}&lt;/style&gt;\n",
       "    &lt;script src=&quot;https://cdn.jsdelivr.net/npm/leaflet@1.9.3/dist/leaflet.js&quot;&gt;&lt;/script&gt;\n",
       "    &lt;script src=&quot;https://code.jquery.com/jquery-1.12.4.min.js&quot;&gt;&lt;/script&gt;\n",
       "    &lt;script src=&quot;https://cdn.jsdelivr.net/npm/bootstrap@5.2.2/dist/js/bootstrap.bundle.min.js&quot;&gt;&lt;/script&gt;\n",
       "    &lt;script src=&quot;https://cdnjs.cloudflare.com/ajax/libs/Leaflet.awesome-markers/2.0.2/leaflet.awesome-markers.js&quot;&gt;&lt;/script&gt;\n",
       "    &lt;link rel=&quot;stylesheet&quot; href=&quot;https://cdn.jsdelivr.net/npm/leaflet@1.9.3/dist/leaflet.css&quot;/&gt;\n",
       "    &lt;link rel=&quot;stylesheet&quot; href=&quot;https://cdn.jsdelivr.net/npm/bootstrap@5.2.2/dist/css/bootstrap.min.css&quot;/&gt;\n",
       "    &lt;link rel=&quot;stylesheet&quot; href=&quot;https://netdna.bootstrapcdn.com/bootstrap/3.0.0/css/bootstrap.min.css&quot;/&gt;\n",
       "    &lt;link rel=&quot;stylesheet&quot; href=&quot;https://cdn.jsdelivr.net/npm/@fortawesome/fontawesome-free@6.2.0/css/all.min.css&quot;/&gt;\n",
       "    &lt;link rel=&quot;stylesheet&quot; href=&quot;https://cdnjs.cloudflare.com/ajax/libs/Leaflet.awesome-markers/2.0.2/leaflet.awesome-markers.css&quot;/&gt;\n",
       "    &lt;link rel=&quot;stylesheet&quot; href=&quot;https://cdn.jsdelivr.net/gh/python-visualization/folium/folium/templates/leaflet.awesome.rotate.min.css&quot;/&gt;\n",
       "    \n",
       "            &lt;meta name=&quot;viewport&quot; content=&quot;width=device-width,\n",
       "                initial-scale=1.0, maximum-scale=1.0, user-scalable=no&quot; /&gt;\n",
       "            &lt;style&gt;\n",
       "                #map_34b3d622f06cedf1ab2ca22d7157e907 {\n",
       "                    position: relative;\n",
       "                    width: 100.0%;\n",
       "                    height: 100.0%;\n",
       "                    left: 0.0%;\n",
       "                    top: 0.0%;\n",
       "                }\n",
       "                .leaflet-container { font-size: 1rem; }\n",
       "            &lt;/style&gt;\n",
       "        \n",
       "&lt;/head&gt;\n",
       "&lt;body&gt;\n",
       "    \n",
       "    \n",
       "            &lt;div class=&quot;folium-map&quot; id=&quot;map_34b3d622f06cedf1ab2ca22d7157e907&quot; &gt;&lt;/div&gt;\n",
       "        \n",
       "&lt;/body&gt;\n",
       "&lt;script&gt;\n",
       "    \n",
       "    \n",
       "            var map_34b3d622f06cedf1ab2ca22d7157e907 = L.map(\n",
       "                &quot;map_34b3d622f06cedf1ab2ca22d7157e907&quot;,\n",
       "                {\n",
       "                    center: [0, 0],\n",
       "                    crs: L.CRS.EPSG3857,\n",
       "                    zoom: 1,\n",
       "                    zoomControl: true,\n",
       "                    preferCanvas: false,\n",
       "                }\n",
       "            );\n",
       "\n",
       "            \n",
       "\n",
       "        \n",
       "    \n",
       "            var tile_layer_ce8c4ccbeed1abaf67e445b01045b2f1 = L.tileLayer(\n",
       "                &quot;https://{s}.tile.openstreetmap.org/{z}/{x}/{y}.png&quot;,\n",
       "                {&quot;attribution&quot;: &quot;Data by \\u0026copy; \\u003ca target=\\&quot;_blank\\&quot; href=\\&quot;http://openstreetmap.org\\&quot;\\u003eOpenStreetMap\\u003c/a\\u003e, under \\u003ca target=\\&quot;_blank\\&quot; href=\\&quot;http://www.openstreetmap.org/copyright\\&quot;\\u003eODbL\\u003c/a\\u003e.&quot;, &quot;detectRetina&quot;: false, &quot;maxNativeZoom&quot;: 18, &quot;maxZoom&quot;: 18, &quot;minZoom&quot;: 0, &quot;noWrap&quot;: false, &quot;opacity&quot;: 1, &quot;subdomains&quot;: &quot;abc&quot;, &quot;tms&quot;: false}\n",
       "            ).addTo(map_34b3d622f06cedf1ab2ca22d7157e907);\n",
       "        \n",
       "    \n",
       "                var lat_lng_popup_ecc3a03c495fa72ec28662f7550e815e = L.popup();\n",
       "                function latLngPop(e) {\n",
       "                    lat_lng_popup_ecc3a03c495fa72ec28662f7550e815e\n",
       "                        .setLatLng(e.latlng)\n",
       "                        .setContent(&quot;Latitude: &quot; + e.latlng.lat.toFixed(4) +\n",
       "                                    &quot;&lt;br&gt;Longitude: &quot; + e.latlng.lng.toFixed(4))\n",
       "                        .openOn(map_34b3d622f06cedf1ab2ca22d7157e907);\n",
       "                    }\n",
       "                map_34b3d622f06cedf1ab2ca22d7157e907.on(&#x27;click&#x27;, latLngPop);\n",
       "            \n",
       "&lt;/script&gt;\n",
       "&lt;/html&gt;\" style=\"position:absolute;width:100%;height:100%;left:0;top:0;border:none !important;\" allowfullscreen webkitallowfullscreen mozallowfullscreen></iframe></div></div>"
      ],
      "text/plain": [
       "<folium.folium.Map at 0x7fbe9a8b95b0>"
      ]
     },
     "execution_count": 67,
     "metadata": {},
     "output_type": "execute_result"
    }
   ],
   "source": [
    "import folium as fl\n",
    "\n",
    "\n",
    "def get_pos(lat,lng):\n",
    "    return lat,lng\n",
    "\n",
    "m = fl.Map()\n",
    "\n",
    "m.add_child(fl.LatLngPopup())\n",
    "\n",
    "\n",
    "\n"
   ]
  },
  {
   "cell_type": "code",
   "execution_count": null,
   "id": "ae090f7e-feb6-41b5-8532-26111ae00914",
   "metadata": {},
   "outputs": [],
   "source": []
  },
  {
   "cell_type": "code",
   "execution_count": 49,
   "id": "a979c962-081a-4307-bb38-d4e2094d26b1",
   "metadata": {},
   "outputs": [
    {
     "data": {
      "text/plain": [
       "{'@context': 'http://environment.data.gov.uk/water-quality/doc/context-TBD.jsonld',\n",
       " 'meta': {'publisher': 'Environment Agency',\n",
       "  'licence': 'http://www.nationalarchives.gov.uk/doc/open-government-licence/version/3/',\n",
       "  'documentation': 'http://environment.data.gov.uk/water-quality/view/doc/reference',\n",
       "  'version': '0.1',\n",
       "  'comment': 'WARNING: Pre-alpha test service',\n",
       "  'hasFormat': ['http://environment.data.gov.uk/water-quality/id/sampling-point.csv?lat=1.2577&long=51.752&dist=10',\n",
       "   'http://environment.data.gov.uk/water-quality/id/sampling-point.rdf?lat=1.2577&long=51.752&dist=10',\n",
       "   'http://environment.data.gov.uk/water-quality/id/sampling-point.ttl?lat=1.2577&long=51.752&dist=10',\n",
       "   'http://environment.data.gov.uk/water-quality/id/sampling-point.html?lat=1.2577&long=51.752&dist=10'],\n",
       "  'limit': 50},\n",
       " 'items': []}"
      ]
     },
     "execution_count": 49,
     "metadata": {},
     "output_type": "execute_result"
    }
   ],
   "source": []
  },
  {
   "cell_type": "code",
   "execution_count": null,
   "id": "bab1f019-ccd9-4bb1-81b2-7ba100bb84b9",
   "metadata": {},
   "outputs": [
    {
     "data": {
      "text/plain": [
       "<Response [400]>"
      ]
     },
     "execution_count": 14,
     "metadata": {},
     "output_type": "execute_result"
    }
   ],
   "source": []
  },
  {
   "cell_type": "code",
   "execution_count": 12,
   "id": "a5baa31e-2562-472d-aafb-f70e066d7acb",
   "metadata": {},
   "outputs": [
    {
     "data": {
      "text/plain": [
       "'{\"lat\": 1.2577, \"long\": 51.752, \"dist\": 30}'"
      ]
     },
     "execution_count": 12,
     "metadata": {},
     "output_type": "execute_result"
    }
   ],
   "source": [
    "json.dumps(search)"
   ]
  },
  {
   "cell_type": "code",
   "execution_count": null,
   "id": "ed1a5d1c-36e4-41d7-a3a1-02d66aad34e6",
   "metadata": {},
   "outputs": [],
   "source": []
  }
 ],
 "metadata": {
  "kernelspec": {
   "display_name": "data_blog",
   "language": "python",
   "name": "data_blog"
  },
  "language_info": {
   "codemirror_mode": {
    "name": "ipython",
    "version": 3
   },
   "file_extension": ".py",
   "mimetype": "text/x-python",
   "name": "python",
   "nbconvert_exporter": "python",
   "pygments_lexer": "ipython3",
   "version": "3.8.15"
  }
 },
 "nbformat": 4,
 "nbformat_minor": 5
}
